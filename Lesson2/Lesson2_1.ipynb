{
 "cells": [
  {
   "cell_type": "markdown",
   "id": "9e7a88b0",
   "metadata": {},
   "source": [
    "跟Github repo 同步\n",
    "\n",
    "step 1:變更\n",
    "\n",
    "step 2:暫存\n",
    "\n",
    "step3:提交(要説明)\n",
    "\n",
    "step4:同步變更 ."
   ]
  },
  {
   "cell_type": "code",
   "execution_count": null,
   "id": "3f09a796",
   "metadata": {},
   "outputs": [
    {
     "name": "stdout",
     "output_type": "stream",
     "text": [
      "Hello,python\n"
     ]
    }
   ],
   "source": [
    "print('Hello,python')"
   ]
  },
  {
   "cell_type": "code",
   "execution_count": null,
   "id": "26d228a7",
   "metadata": {},
   "outputs": [
    {
     "name": "stdout",
     "output_type": "stream",
     "text": [
      "10\n",
      "25\n"
     ]
    }
   ],
   "source": [
    "print(5+5)\n",
    "print(5*5)"
   ]
  }
 ],
 "metadata": {
  "kernelspec": {
   "display_name": "base",
   "language": "python",
   "name": "python3"
  },
  "language_info": {
   "codemirror_mode": {
    "name": "ipython",
    "version": 3
   },
   "file_extension": ".py",
   "mimetype": "text/x-python",
   "name": "python",
   "nbconvert_exporter": "python",
   "pygments_lexer": "ipython3",
   "version": "3.13.2"
  }
 },
 "nbformat": 4,
 "nbformat_minor": 5
}
