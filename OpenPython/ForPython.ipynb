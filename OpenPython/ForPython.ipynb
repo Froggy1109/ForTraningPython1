{
 "cells": [
  {
   "cell_type": "markdown",
   "id": "479be0ae",
   "metadata": {},
   "source": [
    "配置python（step1)\n",
    "點擊左下的codespaces\n",
    "add dev container configuration files\n",
    "create new configuration \n",
    "miniconda(python 3\n",
    "git(from source)dev containers\n",
    "keep default\n",
    "\n",
    "建立開發Python 環境(step2)\n",
    "a)點擊左下的codespaces\n",
    "b)Rebuild container\n",
    "c)Full Rebuild\n",
    "\n",
    "在終端機打python --version來確認python的版本\n",
    "\n",
    "綫上Visual Studio code(step 3)\n",
    "a)繁體中文\n",
    "b)自動save\n",
    "c)開發python,需要python的提示\n",
    "d)開發ipynb files\n",
    "e)關閉ai(github Copilot)\n",
    "\n",
    "點擊延申模組\n",
    "1)繁體中文\n",
    "2)python\n",
    "3)搜尋jupyter,安裝綠色的標簽（一共有四個自動安裝)"
   ]
  }
 ],
 "metadata": {
  "language_info": {
   "name": "python"
  }
 },
 "nbformat": 4,
 "nbformat_minor": 5
}
