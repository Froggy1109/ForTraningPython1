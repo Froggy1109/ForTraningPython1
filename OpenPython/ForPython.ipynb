{
 "cells": [
  {
   "cell_type": "markdown",
   "id": "479be0ae",
   "metadata": {},
   "source": [
    "配置python（step1)\n",
    "\n",
    "點擊左下的codespaces\n",
    "\n",
    "add dev container configuration files\n",
    "\n",
    "create new configuration \n",
    "\n",
    "miniconda(python 3\n",
    "\n",
    "git(from source)dev containers\n",
    "\n",
    "keep default\n",
    "\n",
    "建立開發Python 環境(step2)\n",
    "\n",
    "a)點擊左下的codespaces\n",
    "\n",
    "b)Rebuild container\n",
    "\n",
    "c)Full Rebuild\n",
    "\n",
    "在終端機打python --version來確認python的版本\n",
    "\n",
    "綫上Visual Studio code(step 3)\n",
    "a)繁體中文\n",
    "\n",
    "b)自動save\n",
    "\n",
    "c)開發python,需要python的提示\n",
    "\n",
    "d)開發ipynb files\n",
    "\n",
    "e)關閉ai(github Copilot)\n",
    "\n",
    "點擊延申模組\n",
    "\n",
    "1)繁體中文\n",
    "\n",
    "2)python\n",
    "\n",
    "3)搜尋jupyter,安裝綠色的標簽（一共有四個自動安裝)"
   ]
  }
 ],
 "metadata": {
  "kernelspec": {
   "display_name": "base",
   "language": "python",
   "name": "python3"
  },
  "language_info": {
   "name": "python",
   "version": "3.13.2"
  }
 },
 "nbformat": 4,
 "nbformat_minor": 5
}
