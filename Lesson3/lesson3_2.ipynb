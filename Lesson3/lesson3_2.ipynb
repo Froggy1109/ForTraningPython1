{
 "cells": [
  {
   "cell_type": "code",
   "execution_count": null,
   "id": "db982327",
   "metadata": {},
   "outputs": [],
   "source": [
    "#字串 + 數字是不行的\n",
    "\n",
    "EXP:15 + '32' #是無法執行的"
   ]
  },
  {
   "cell_type": "code",
   "execution_count": 2,
   "id": "8e5826bc",
   "metadata": {},
   "outputs": [
    {
     "data": {
      "text/plain": [
       "'2510'"
      ]
     },
     "execution_count": 2,
     "metadata": {},
     "output_type": "execute_result"
    }
   ],
   "source": [
    "#字串 + 字串 是可以的 （叫鏈接)\n",
    "\n",
    "'25' + '10' #只能用加法"
   ]
  },
  {
   "cell_type": "code",
   "execution_count": null,
   "id": "d1e3ffe1",
   "metadata": {},
   "outputs": [],
   "source": [
    "官網説明書 ： Python 標準函式庫 (内建涵式) standard function()\n",
    "\n",
    "function 是一個功能\n",
    "\n",
    "比如 print() 就是一個python的功能\n",
    "\n",
    "type() 是一種檢查變數的型別 \n",
    "- int , float , str , None , bool "
   ]
  },
  {
   "cell_type": "code",
   "execution_count": 1,
   "id": "1327567d",
   "metadata": {},
   "outputs": [
    {
     "name": "stdout",
     "output_type": "stream",
     "text": [
      "90.0\n"
     ]
    },
    {
     "data": {
      "text/plain": [
       "float"
      ]
     },
     "execution_count": 1,
     "metadata": {},
     "output_type": "execute_result"
    }
   ],
   "source": [
    "number1 = 10 #這個叫建立變數\n",
    "\n",
    "type(number1)\n",
    "\n",
    "number2 = 80.0\n",
    "\n",
    "type(number2)\n",
    "\n",
    "value = number1 + number2\n",
    "\n",
    "print(value)\n",
    "\n",
    "type(value)\n",
    "\n"
   ]
  },
  {
   "cell_type": "code",
   "execution_count": null,
   "id": "8739f614",
   "metadata": {},
   "outputs": [
    {
     "ename": "NameError",
     "evalue": "name '可以轉換的型別' is not defined",
     "output_type": "error",
     "traceback": [
      "\u001b[31m---------------------------------------------------------------------------\u001b[39m",
      "\u001b[31mNameError\u001b[39m                                 Traceback (most recent call last)",
      "\u001b[36mCell\u001b[39m\u001b[36m \u001b[39m\u001b[32mIn[13]\u001b[39m\u001b[32m, line 1\u001b[39m\n\u001b[32m----> \u001b[39m\u001b[32m1\u001b[39m \u001b[43m可以轉換的型別\u001b[49m\n\u001b[32m      2\u001b[39m \u001b[38;5;28mint\u001b[39m() , \u001b[38;5;28mfloat\u001b[39m() , \u001b[38;5;28mstr\u001b[39m() , \u001b[38;5;28mbool\u001b[39m()\n\u001b[32m      4\u001b[39m number1 = \u001b[32m30\u001b[39m\n",
      "\u001b[31mNameError\u001b[39m: name '可以轉換的型別' is not defined"
     ]
    }
   ],
   "source": [
    "可以轉換的型別\n",
    "int() , float() , str() , bool()\n",
    "\n",
    "number1 = 30\n",
    "str1 = '30'\n",
    "\n",
    "value = int(str1) + number1 \n",
    "\n",
    "print(value)\n",
    "\n",
    "int('30a') #無法轉換的，因爲出現除了數字以外的東西"
   ]
  }
 ],
 "metadata": {
  "kernelspec": {
   "display_name": "base",
   "language": "python",
   "name": "python3"
  },
  "language_info": {
   "codemirror_mode": {
    "name": "ipython",
    "version": 3
   },
   "file_extension": ".py",
   "mimetype": "text/x-python",
   "name": "python",
   "nbconvert_exporter": "python",
   "pygments_lexer": "ipython3",
   "version": "3.13.2"
  }
 },
 "nbformat": 4,
 "nbformat_minor": 5
}
