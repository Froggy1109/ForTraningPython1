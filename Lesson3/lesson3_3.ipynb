{
 "cells": [
  {
   "cell_type": "code",
   "execution_count": 23,
   "id": "2bb2268f",
   "metadata": {},
   "outputs": [
    {
     "name": "stdout",
     "output_type": "stream",
     "text": [
      "梯形的面積是 402.5\n"
     ]
    },
    {
     "data": {
      "text/plain": [
       "float"
      ]
     },
     "execution_count": 23,
     "metadata": {},
     "output_type": "execute_result"
    }
   ],
   "source": [
    "#請輸入梯形的上低(公分)：5.6\n",
    "#請輸入梯形的下底(公分)：15.3\n",
    "#請輸入梯形的高(公分)：2.8\n",
    "\n",
    "top = float(input('請輸入梯形的上低(公分)'))\n",
    "bottom = float(input('請輸入梯形的下底(公分)'))\n",
    "height = float(input('請輸入梯形的高(公分)'))\n",
    "\n",
    "area = (top + bottom) * height / 2\n",
    "\n",
    "# round(number, ndigits = none) number 是參數， ndigits 是有於設置的參數\n",
    "# number 是引數值\n",
    "print('梯形的面積是' , round(area, ndigits = 2))\n",
    "type(area)"
   ]
  },
  {
   "cell_type": "code",
   "execution_count": 22,
   "id": "382e7418",
   "metadata": {},
   "outputs": [
    {
     "name": "stdout",
     "output_type": "stream",
     "text": [
      "<class 'str'>\n"
     ]
    }
   ],
   "source": [
    "value = input('請輸入一個數值：')\n",
    "\n",
    "print(type(value))\n",
    "\n",
    "value_float = float(value)\n",
    "\n",
    "value_float\n",
    "\n",
    "value = float(input('請輸入一個值:'))"
   ]
  }
 ],
 "metadata": {
  "kernelspec": {
   "display_name": "base",
   "language": "python",
   "name": "python3"
  },
  "language_info": {
   "codemirror_mode": {
    "name": "ipython",
    "version": 3
   },
   "file_extension": ".py",
   "mimetype": "text/x-python",
   "name": "python",
   "nbconvert_exporter": "python",
   "pygments_lexer": "ipython3",
   "version": "3.13.2"
  }
 },
 "nbformat": 4,
 "nbformat_minor": 5
}
