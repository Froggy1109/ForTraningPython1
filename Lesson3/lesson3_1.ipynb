{
 "cells": [
  {
   "cell_type": "markdown",
   "id": "dd200b66",
   "metadata": {},
   "source": [
    "Python 如何做數學運算\n",
    "\n",
    "只有數值才能做運算\n",
    "\n",
    "會傳出數值的都叫做運算式"
   ]
  },
  {
   "cell_type": "code",
   "execution_count": 3,
   "id": "a5471587",
   "metadata": {},
   "outputs": [
    {
     "data": {
      "text/plain": [
       "20.0"
      ]
     },
     "execution_count": 3,
     "metadata": {},
     "output_type": "execute_result"
    }
   ],
   "source": [
    "5 + 5.0 #一個運算值\n",
    "\n",
    "5 + 5.0 + 10 #兩個運算值"
   ]
  },
  {
   "cell_type": "markdown",
   "id": "32eec130",
   "metadata": {},
   "source": [
    "運算數值優先的順序\n",
    "\n",
    "a)(  )\n",
    "\n",
    "b)**\n",
    "\n",
    "c)正負\n",
    "\n",
    "d)* , / , % , //\n",
    "\n",
    "e)+ - \n",
    "\n",
    "f)= 數值（最後才做）（指定運算子）永遠是最後才做"
   ]
  },
  {
   "cell_type": "code",
   "execution_count": null,
   "id": "a1967b6f",
   "metadata": {},
   "outputs": [
    {
     "data": {
      "text/plain": [
       "10"
      ]
     },
     "execution_count": 6,
     "metadata": {},
     "output_type": "execute_result"
    }
   ],
   "source": [
    "#運算式\n",
    "\n",
    "2 + 3 * 4\n",
    "\n",
    "(2 + 3) * 4\n",
    "\n",
    "2 * (1+2) ** 2 - 2 ** 2 * 2"
   ]
  }
 ],
 "metadata": {
  "kernelspec": {
   "display_name": "base",
   "language": "python",
   "name": "python3"
  },
  "language_info": {
   "codemirror_mode": {
    "name": "ipython",
    "version": 3
   },
   "file_extension": ".py",
   "mimetype": "text/x-python",
   "name": "python",
   "nbconvert_exporter": "python",
   "pygments_lexer": "ipython3",
   "version": "3.13.2"
  }
 },
 "nbformat": 4,
 "nbformat_minor": 5
}
