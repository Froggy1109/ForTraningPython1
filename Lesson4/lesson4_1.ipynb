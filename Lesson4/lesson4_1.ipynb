{
 "cells": [
  {
   "cell_type": "markdown",
   "id": "9fb88b48",
   "metadata": {},
   "source": [
    "數學運算\n",
    "指定運算(=), 最後才做"
   ]
  },
  {
   "cell_type": "code",
   "execution_count": null,
   "id": "c161181b",
   "metadata": {},
   "outputs": [
    {
     "name": "stdout",
     "output_type": "stream",
     "text": [
      "三數的數值是: 120.0\n"
     ]
    }
   ],
   "source": [
    "value1 = float(input('請輸入第一個值:'))\n",
    "\n",
    "value2 = float(input('請輸入第二個值:'))\n",
    "\n",
    "value3 = float(input('請輸入第三個值:'))\n",
    "\n",
    "\n",
    "Total = value1 + value2 + value3\n",
    "\n",
    "print('三數的數值是:' , Total)"
   ]
  },
  {
   "cell_type": "code",
   "execution_count": 10,
   "id": "89ef0010",
   "metadata": {},
   "outputs": [
    {
     "name": "stdout",
     "output_type": "stream",
     "text": [
      "n=: 50\n"
     ]
    }
   ],
   "source": [
    "n = 25\n",
    "\n",
    "n = n + 25\n",
    "\n",
    "print('n=:' , n)"
   ]
  },
  {
   "cell_type": "code",
   "execution_count": null,
   "id": "3e188d1e",
   "metadata": {},
   "outputs": [
    {
     "name": "stdout",
     "output_type": "stream",
     "text": [
      "n=: 100\n"
     ]
    }
   ],
   "source": [
    "#複合指定運算值 (所有的數學都可以變成複合指定運算值)\n",
    "# +=\n",
    "# -=\n",
    "# *=\n",
    "\n",
    "n = 25\n",
    "\n",
    "n += 25\n",
    "\n",
    "n *= 2\n",
    "\n",
    "print('n=:' , n)"
   ]
  },
  {
   "cell_type": "code",
   "execution_count": 4,
   "id": "8ad59f26",
   "metadata": {},
   "outputs": [
    {
     "name": "stdout",
     "output_type": "stream",
     "text": [
      "三數的數值是: 160.0\n"
     ]
    }
   ],
   "source": [
    "total = 0\n",
    "\n",
    "value= float(input('請輸入第一個值:'))\n",
    "total += value\n",
    "\n",
    "value = float(input('請輸入第二個值:'))\n",
    "total += value\n",
    "\n",
    "value = float(input('請輸入第三個值:'))\n",
    "total += value\n",
    "\n",
    "print('三數的數值是:' , total)"
   ]
  },
  {
   "cell_type": "code",
   "execution_count": null,
   "id": "698c603f",
   "metadata": {},
   "outputs": [
    {
     "name": "stdout",
     "output_type": "stream",
     "text": [
      "a = 3.0\n",
      "b = 4.0\n",
      "斜邊為 5.0\n"
     ]
    }
   ],
   "source": [
    "#直角三形\n",
    "\n",
    "#内建工具箱 (import)\n",
    "\n",
    "import math\n",
    "\n",
    "a = float(input('請輸入a='))\n",
    "\n",
    "b = float(input('請輸入b='))\n",
    "\n",
    "c = math.sqrt(a ** 2 + b ** 2)\n",
    "\n",
    "print('a =' , a);\n",
    "\n",
    "print('b =', b);\n",
    "\n",
    "print('斜邊為', c)"
   ]
  }
 ],
 "metadata": {
  "kernelspec": {
   "display_name": "base",
   "language": "python",
   "name": "python3"
  },
  "language_info": {
   "codemirror_mode": {
    "name": "ipython",
    "version": 3
   },
   "file_extension": ".py",
   "mimetype": "text/x-python",
   "name": "python",
   "nbconvert_exporter": "python",
   "pygments_lexer": "ipython3",
   "version": "3.13.2"
  }
 },
 "nbformat": 4,
 "nbformat_minor": 5
}
