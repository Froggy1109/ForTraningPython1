{
 "cells": [
  {
   "cell_type": "markdown",
   "id": "0a3f89d1",
   "metadata": {},
   "source": [
    "開始學流程的控制，讓程式更多樣化\n",
    "\n",
    "最重要的兩種: 1 判斷 2 洄圈\n",
    "\n",
    "只要學好這兩個，就可以把流程控制做好\n",
    "\n",
    "\n",
    "判斷\n",
    "\n",
    "-判斷要有語法 : if bool是關鍵字(要有兩個值，一個false and true)\n",
    "\n",
    "如果是true就執行，如果是錯就不執行，這個叫單項選擇（第一種）\n",
    "\n",
    "雙項選擇 if bool 要在python 對齊 有加一個else \n"
   ]
  },
  {
   "cell_type": "markdown",
   "id": "8bffb7e1",
   "metadata": {},
   "source": [
    "如何得到bool值？\n",
    "\n",
    "第一個：比較(關係)運算子\n",
    "\n",
    "exp : < 小於\n",
    "      <= 小於等於\n",
    "      > 大於\n",
    "      >= 大於等於\n",
    "      == 兩邊是否等於\n",
    "      ！= 兩邊是否不等於\n",
    "\n",
    "第二個：邏輯運算子\n",
    "\n"
   ]
  },
  {
   "cell_type": "code",
   "execution_count": 4,
   "id": "c60950b2",
   "metadata": {},
   "outputs": [
    {
     "data": {
      "text/plain": [
       "False"
      ]
     },
     "execution_count": 4,
     "metadata": {},
     "output_type": "execute_result"
    }
   ],
   "source": [
    "5 > 3\n",
    "\n",
    "3 > 5\n",
    "\n",
    "5 == 5\n",
    "\n",
    "5 != 5"
   ]
  },
  {
   "cell_type": "code",
   "execution_count": 10,
   "id": "b9caf6d6",
   "metadata": {},
   "outputs": [
    {
     "name": "stdout",
     "output_type": "stream",
     "text": [
      "不及格\n"
     ]
    }
   ],
   "source": [
    "#雙向選擇\n",
    "\n",
    "score = int(input('請輸入分數'))\n",
    "\n",
    "if score > 60:\n",
    "\n",
    "    print('及格')\n",
    "else:\n",
    "    \n",
    "    print(\"不及格\")"
   ]
  },
  {
   "cell_type": "code",
   "execution_count": 9,
   "id": "7b7b0a4f",
   "metadata": {},
   "outputs": [
    {
     "name": "stdout",
     "output_type": "stream",
     "text": [
      "及格\n"
     ]
    }
   ],
   "source": [
    "#雙向選擇\n",
    "\n",
    "score = 78\n",
    "\n",
    "if score > 60:\n",
    "\n",
    "    print('及格')\n",
    "else:\n",
    "    \n",
    "    print(\"不及格\")"
   ]
  },
  {
   "cell_type": "code",
   "execution_count": 20,
   "id": "54f8fd08",
   "metadata": {},
   "outputs": [
    {
     "name": "stdout",
     "output_type": "stream",
     "text": [
      "學生的總得分為: 297.41\n"
     ]
    }
   ],
   "source": [
    "#學生總分為300\n",
    "#有些學生可以加5%\n",
    "\n",
    "score = float(input('請輸入學生的分數(最高300分):'))\n",
    "\n",
    "is_add = input('學生是否符合加分條件？(Y,N)')\n",
    "\n",
    "if is_add == 'y':\n",
    "    score *= 1.05\n",
    "\n",
    "print('學生的總得分為:' , round( score , ndigits = 2 ))\n",
    "\n",
    "\n"
   ]
  }
 ],
 "metadata": {
  "kernelspec": {
   "display_name": "base",
   "language": "python",
   "name": "python3"
  },
  "language_info": {
   "codemirror_mode": {
    "name": "ipython",
    "version": 3
   },
   "file_extension": ".py",
   "mimetype": "text/x-python",
   "name": "python",
   "nbconvert_exporter": "python",
   "pygments_lexer": "ipython3",
   "version": "3.13.2"
  }
 },
 "nbformat": 4,
 "nbformat_minor": 5
}
