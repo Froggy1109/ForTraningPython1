{
 "cells": [
  {
   "cell_type": "code",
   "execution_count": 3,
   "id": "4bafaf53",
   "metadata": {},
   "outputs": [
    {
     "name": "stdout",
     "output_type": "stream",
     "text": [
      "小於等於60\n"
     ]
    }
   ],
   "source": [
    "scores = 50\n",
    "\n",
    "if scores >= 60:\n",
    "    \n",
    "    print('大於等於60')\n",
    "\n",
    "else:\n",
    "    print('小於等於60')"
   ]
  },
  {
   "cell_type": "code",
   "execution_count": null,
   "id": "ea02e6bb",
   "metadata": {},
   "outputs": [
    {
     "name": "stdout",
     "output_type": "stream",
     "text": [
      "scores > 80\n"
     ]
    }
   ],
   "source": [
    "#60 <= scores <= 80\n",
    "#兩個條件，巢狀判斷\n",
    "\n",
    "scores = 100\n",
    "\n",
    "if scores >= 60:\n",
    "\n",
    "    if scores <= 80:\n",
    "        print('60 <= scores <= 80')\n",
    "\n",
    "    else:\n",
    "        print('scores > 80')\n",
    "\n",
    "\n",
    "else:\n",
    "    print('scores <= 60')"
   ]
  },
  {
   "cell_type": "markdown",
   "id": "ec230d76",
   "metadata": {},
   "source": [
    "邏輯運算子要有 1個條件 and 1個條件，共同時有兩個條件"
   ]
  },
  {
   "cell_type": "code",
   "execution_count": 8,
   "id": "5529ca15",
   "metadata": {},
   "outputs": [
    {
     "name": "stdout",
     "output_type": "stream",
     "text": [
      "scores 可能大於80或小於60\n"
     ]
    }
   ],
   "source": [
    "#60 <= scores <= 80\n",
    "\n",
    "scores = 90\n",
    "if scores >= 60 and scores <= 80:\n",
    "\n",
    "    print('60 <= scores >= 80')\n",
    "\n",
    "else:\n",
    "    print('scores 可能大於80或小於60')"
   ]
  }
 ],
 "metadata": {
  "kernelspec": {
   "display_name": "base",
   "language": "python",
   "name": "python3"
  },
  "language_info": {
   "codemirror_mode": {
    "name": "ipython",
    "version": 3
   },
   "file_extension": ".py",
   "mimetype": "text/x-python",
   "name": "python",
   "nbconvert_exporter": "python",
   "pygments_lexer": "ipython3",
   "version": "3.13.2"
  }
 },
 "nbformat": 4,
 "nbformat_minor": 5
}
