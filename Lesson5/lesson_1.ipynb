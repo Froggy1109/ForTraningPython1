{
 "cells": [
  {
   "cell_type": "code",
   "execution_count": null,
   "id": "b4769c2e",
   "metadata": {},
   "outputs": [
    {
     "name": "stdout",
     "output_type": "stream",
     "text": [
      "學生的總得分為: 300\n"
     ]
    }
   ],
   "source": [
    "#學生總分為300\n",
    "#有些學生可以加5%\n",
    "\n",
    "score = float(input('請輸入學生的分數(最高300分):'))\n",
    "\n",
    "is_add = input('學生是否符合加分條件？(Y,N)')\n",
    "\n",
    "#這個叫巢狀判斷(如果有兩個條件，就用這個判斷)\n",
    "\n",
    "if is_add == 'y':\n",
    "    score *= 1.05\n",
    "    if score > 300: \n",
    "        score = 300\n",
    "        \n",
    "\n",
    "print('學生的總得分為:' , round( score , ndigits = 2 ))\n"
   ]
  }
 ],
 "metadata": {
  "kernelspec": {
   "display_name": "base",
   "language": "python",
   "name": "python3"
  },
  "language_info": {
   "codemirror_mode": {
    "name": "ipython",
    "version": 3
   },
   "file_extension": ".py",
   "mimetype": "text/x-python",
   "name": "python",
   "nbconvert_exporter": "python",
   "pygments_lexer": "ipython3",
   "version": "3.13.2"
  }
 },
 "nbformat": 4,
 "nbformat_minor": 5
}
