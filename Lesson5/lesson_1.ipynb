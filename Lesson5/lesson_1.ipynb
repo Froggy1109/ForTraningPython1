{
 "cells": [
  {
   "cell_type": "code",
   "execution_count": 4,
   "id": "b4769c2e",
   "metadata": {},
   "outputs": [
    {
     "name": "stdout",
     "output_type": "stream",
     "text": [
      "學生的總得分為: 210.0\n",
      "應用程式結束\n"
     ]
    }
   ],
   "source": [
    "#學生總分為300\n",
    "#有些學生可以加5%\n",
    "\n",
    "score = float(input('請輸入學生的分數(最高300分):'))\n",
    "\n",
    "if score <= 300:\n",
    "    is_add = input('學生是否符合加分條件？(Y,N)')\n",
    "\n",
    "#這個叫巢狀判斷(如果有兩個條件，就用這個判斷)\n",
    "\n",
    "    if is_add == 'y':\n",
    "         score *= 1.05\n",
    "         if score > 300: \n",
    "            score = 300\n",
    "    \n",
    "    print('學生的總得分為:' , round( score , ndigits = 2 ))\n",
    "\n",
    "    \n",
    "else:\n",
    "    print('總分不得超過300分')\n",
    "\n",
    "print('應用程式結束')\n",
    "\n"
   ]
  },
  {
   "cell_type": "markdown",
   "id": "9c9728b2",
   "metadata": {},
   "source": [
    "如果與程式不符，就會出現raise Exception(丟出列外的意思)，程式會馬上結束\n",
    "沒有寫程式處理列外，程式會馬上終止\n",
    "\n",
    "try 是一個程式來檢查有沒有raise exception, 有的話就跳到except 來處理\n",
    "exception 有很多種, except: 代表處理所有的exception\n",
    "EXP :except Value error, index error "
   ]
  },
  {
   "cell_type": "code",
   "execution_count": 8,
   "id": "4f674b8b",
   "metadata": {},
   "outputs": [
    {
     "name": "stdout",
     "output_type": "stream",
     "text": [
      "不知名的錯誤\n",
      "結束網路連綫\n",
      "應用程式結束\n"
     ]
    }
   ],
   "source": [
    "try:\n",
    "    money = int(input('請輸入金額'))\n",
    "\n",
    "except ValueError as value:\n",
    "    print('格式錯誤', value)\n",
    "\n",
    "except IndexError as a :\n",
    "    print('索引錯誤', a)\n",
    "\n",
    "except:\n",
    "    print('不知名的錯誤')\n",
    "\n",
    "else:\n",
    "    print('沒有出現錯誤')\n",
    "    print('金額', money)\n",
    "\n",
    "finally:\n",
    "    print('結束網路連綫')\n",
    "\n",
    "\n",
    "print('應用程式結束')\n",
    "\n"
   ]
  }
 ],
 "metadata": {
  "kernelspec": {
   "display_name": "base",
   "language": "python",
   "name": "python3"
  },
  "language_info": {
   "codemirror_mode": {
    "name": "ipython",
    "version": 3
   },
   "file_extension": ".py",
   "mimetype": "text/x-python",
   "name": "python",
   "nbconvert_exporter": "python",
   "pygments_lexer": "ipython3",
   "version": "3.13.2"
  }
 },
 "nbformat": 4,
 "nbformat_minor": 5
}
