{
 "cells": [
  {
   "cell_type": "code",
   "execution_count": 7,
   "id": "4c8c54cb",
   "metadata": {},
   "outputs": [
    {
     "name": "stdout",
     "output_type": "stream",
     "text": [
      "格式錯誤 could not convert string to float: '45t'\n",
      "應用程式結束\n"
     ]
    }
   ],
   "source": [
    "#學生總分為300\n",
    "#有些學生可以加5%\n",
    "\n",
    "try:\n",
    "    score = float(input('請輸入學生的分數(最高300分):'))\n",
    "\n",
    "    if score <= 300:\n",
    "        is_add = input('學生是否符合加分條件？(Y,N)')\n",
    "\n",
    "#這個叫巢狀判斷(如果有兩個條件，就用這個判斷)\n",
    "\n",
    "        if is_add == 'y':\n",
    "            score *= 1.05\n",
    "            if score > 300: \n",
    "                score = 300\n",
    "        \n",
    "        print('學生的總得分為:' , round( score , ndigits = 2 ))\n",
    "\n",
    "        \n",
    "    else:\n",
    "        print('總分不得超過300分')\n",
    "\n",
    "except ValueError as e:\n",
    "    print('格式錯誤' , e)\n",
    "\n",
    "except  :\n",
    "    print('不知名的錯誤' )\n",
    "\n",
    "print('應用程式結束')"
   ]
  }
 ],
 "metadata": {
  "kernelspec": {
   "display_name": "base",
   "language": "python",
   "name": "python3"
  },
  "language_info": {
   "codemirror_mode": {
    "name": "ipython",
    "version": 3
   },
   "file_extension": ".py",
   "mimetype": "text/x-python",
   "name": "python",
   "nbconvert_exporter": "python",
   "pygments_lexer": "ipython3",
   "version": "3.13.2"
  }
 },
 "nbformat": 4,
 "nbformat_minor": 5
}
