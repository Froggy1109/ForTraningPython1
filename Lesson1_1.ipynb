{
  "nbformat": 4,
  "nbformat_minor": 0,
  "metadata": {
    "colab": {
      "provenance": [],
      "authorship_tag": "ABX9TyMvD/czbeFhJVGCUNzKT/ur",
      "include_colab_link": true
    },
    "kernelspec": {
      "name": "python3",
      "display_name": "Python 3"
    },
    "language_info": {
      "name": "python"
    }
  },
  "cells": [
    {
      "cell_type": "markdown",
      "metadata": {
        "id": "view-in-github",
        "colab_type": "text"
      },
      "source": [
        "<a href=\"https://colab.research.google.com/github/Froggy1109/ForTraningPython1/blob/main/Lesson1_1.ipynb\" target=\"_parent\"><img src=\"https://colab.research.google.com/assets/colab-badge.svg\" alt=\"Open In Colab\"/></a>"
      ]
    },
    {
      "cell_type": "markdown",
      "source": [
        "6月25 筆記\n",
        "- Repository 儲存庫\n",
        "\n",
        "- 作業系統 1)Windows 2)Mac OS 3)Linus\n",
        "\n",
        "- 賬號 1)Google 2)Microsoft 3)Github\n",
        "\n",
        "- 講義：github roberthsu2023\n",
        "\n",
        "程式編輯器\n",
        "\n",
        "1） 綫上編輯器：a)google colab- 1節 b)github codespace- 10節\n",
        "\n",
        "2） 本地端編輯器：a)anaconda b)visual studio\n",
        "\n",
        ".ipynb= ipython notebook\n",
        "\n",
        "\n"
      ],
      "metadata": {
        "id": "c5vujrjfm288"
      }
    },
    {
      "cell_type": "code",
      "source": [
        "!python --version"
      ],
      "metadata": {
        "colab": {
          "base_uri": "https://localhost:8080/"
        },
        "id": "PGLF2GcKxLF_",
        "outputId": "05a19b53-49e0-4a9b-a993-c8606539e193"
      },
      "execution_count": null,
      "outputs": [
        {
          "output_type": "stream",
          "name": "stdout",
          "text": [
            "Python 3.11.13\n"
          ]
        }
      ]
    },
    {
      "cell_type": "code",
      "execution_count": null,
      "metadata": {
        "colab": {
          "base_uri": "https://localhost:8080/"
        },
        "id": "pWpiUbRch0Gn",
        "outputId": "93652d56-ea74-447a-f662-658ec26346b2"
      },
      "outputs": [
        {
          "output_type": "stream",
          "name": "stdout",
          "text": [
            "Hello,python!\n"
          ]
        }
      ],
      "source": [
        "print('Hello,python!')"
      ]
    },
    {
      "cell_type": "markdown",
      "source": [
        "python純值的表示法\n",
        "\n",
        "1)整數(int)15\n",
        "\n",
        "2)浮點數(float)15.0\n",
        "\n",
        "3)字串(str)\"15\"\n",
        "\n",
        "4)布林值(bool) True or False\n",
        "\n",
        "5)沒東西(None)"
      ],
      "metadata": {
        "id": "RqGkeiFJ2Vv0"
      }
    },
    {
      "cell_type": "code",
      "source": [
        "#整數(int)\n",
        "15\n",
        "\n",
        "#浮點數(float)\n",
        "15.0\n",
        "\n",
        "#字串(str)\n",
        "\"15\"\n",
        "\n",
        "#bool\n",
        "True\n",
        "False\n",
        "\n",
        "#空值\n",
        "None"
      ],
      "metadata": {
        "id": "NTY7bNzg28nB"
      },
      "execution_count": null,
      "outputs": []
    },
    {
      "cell_type": "markdown",
      "source": [
        "Python 數學運算子\n",
        "\n",
        "1)加法(+)   \n",
        "\n",
        "2)減法(-)\n",
        "\n",
        "3)乘法(*)\n",
        "\n",
        "4)除法(/)\n",
        "\n",
        "5)餘數(%)\n",
        "\n",
        "6)次方(**)\n",
        "\n",
        "2元運算子是 運算元 + 運算元 算出來的是運算試（傳出數值）"
      ],
      "metadata": {
        "id": "dDvcKZkl9Uy-"
      }
    },
    {
      "cell_type": "code",
      "source": [
        "#整數+整數\n",
        "print(5+8)\n",
        "\n",
        "print(4*7)\n",
        "\n",
        "print(7/2) #浮點數除法\n",
        "\n",
        "print(7//2) #整數除法\n",
        "\n",
        "print(7%3) #餘數除法\n",
        "\n",
        "print(3**4) #次方"
      ],
      "metadata": {
        "colab": {
          "base_uri": "https://localhost:8080/"
        },
        "id": "YVWVKjsc-DUa",
        "outputId": "8b453aed-d991-4e80-d21b-7c2e9f963c23"
      },
      "execution_count": null,
      "outputs": [
        {
          "output_type": "stream",
          "name": "stdout",
          "text": [
            "13\n",
            "28\n",
            "3.5\n",
            "3\n",
            "1\n",
            "81\n"
          ]
        }
      ]
    },
    {
      "cell_type": "markdown",
      "source": [
        "#print(5+8) 做了兩件事\n",
        "\n",
        "第一件事是數學運算\n",
        "\n",
        "第二件就是print(13)"
      ],
      "metadata": {
        "id": "JcgYRib9CyKy"
      }
    }
  ]
}